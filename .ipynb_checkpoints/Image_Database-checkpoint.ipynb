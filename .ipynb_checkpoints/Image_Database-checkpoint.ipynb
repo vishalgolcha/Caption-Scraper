{
 "cells": [
  {
   "cell_type": "code",
   "execution_count": 58,
   "metadata": {
    "collapsed": true
   },
   "outputs": [],
   "source": [
    "import requests\n",
    "import re\n",
    "from bs4 import BeautifulSoup\n",
    "import pandas as pd \n",
    "from collections import defaultdict\n",
    "# img_id=3828\n",
    "# img_id=35567\n",
    "# img_id=37503\n",
    "raw_data = defaultdict(list)\n",
    "# scrape the next list "
   ]
  },
  {
   "cell_type": "code",
   "execution_count": 59,
   "metadata": {
    "collapsed": true
   },
   "outputs": [],
   "source": [
    "df = pd.read_pickle(\"lifestyle_tag_links.pickle\")"
   ]
  },
  {
   "cell_type": "code",
   "execution_count": null,
   "metadata": {
    "collapsed": true
   },
   "outputs": [],
   "source": []
  },
  {
   "cell_type": "code",
   "execution_count": 60,
   "metadata": {
    "collapsed": false
   },
   "outputs": [
    {
     "name": "stdout",
     "output_type": "stream",
     "text": [
      "0\n"
     ]
    }
   ],
   "source": [
    "print len(raw_data[\"descrip\"])"
   ]
  },
  {
   "cell_type": "code",
   "execution_count": 61,
   "metadata": {
    "collapsed": false
   },
   "outputs": [],
   "source": [
    "for i in df[\"links\"] :\n",
    "    global img_id\n",
    "    global raw_data\n",
    "    page_traverse = requests.get(i)\n",
    "    souppify      = BeautifulSoup(page_traverse.content, 'html.parser')\n",
    "    flag=0\n",
    "    while True:\n",
    "        try :\n",
    "            context= souppify.select('h1')[0].text.strip()\n",
    "            break\n",
    "        except:\n",
    "            print i\n",
    "            flag=1\n",
    "            break \n",
    "    if flag==1:\n",
    "        continue\n",
    "    for j in souppify.find_all(attrs={\"id\" : re.compile(\"slide\"),\"class\":\"img_container\"}):\n",
    "        raw_data[\"descrip\"].append(j.p.get_text())\n",
    "        raw_data[\"img_src\"].append(j.img[\"src\"])\n",
    "        raw_data[\"path_name\"].append(\"img_lifestyle/img_\"+str(img_id)+\".jpg\")\n",
    "        raw_data[\"article_context\"].append(context)\n",
    "        img_id+=1\n",
    "        "
   ]
  },
  {
   "cell_type": "code",
   "execution_count": 62,
   "metadata": {
    "collapsed": false
   },
   "outputs": [],
   "source": [
    "# print(raw_data[\"path_name\"][0])\n",
    "img_db=pd.DataFrame(raw_data,columns=[\"descrip\",\"img_src\",\"path_name\",\"article_context\"])\n",
    "img_db[\"descrip\"]=img_db[\"descrip\"].str.encode('utf-8')\n",
    "img_db[\"article_context\"]=img_db[\"article_context\"].str.encode('utf-8')\n",
    "img_db[\"img_src\"]=img_db[\"img_src\"].str.encode('utf-8')"
   ]
  },
  {
   "cell_type": "code",
   "execution_count": 63,
   "metadata": {
    "collapsed": false
   },
   "outputs": [],
   "source": [
    "img_db.to_csv(\"img_links_lifestyle.csv\")\n",
    "img_db.to_pickle(\"img_links_lifestyle.pickle\")"
   ]
  },
  {
   "cell_type": "code",
   "execution_count": 64,
   "metadata": {
    "collapsed": false
   },
   "outputs": [
    {
     "data": {
      "text/plain": [
       "37503"
      ]
     },
     "execution_count": 64,
     "metadata": {},
     "output_type": "execute_result"
    }
   ],
   "source": [
    "img_id"
   ]
  },
  {
   "cell_type": "code",
   "execution_count": null,
   "metadata": {
    "collapsed": true
   },
   "outputs": [],
   "source": []
  }
 ],
 "metadata": {
  "anaconda-cloud": {},
  "kernelspec": {
   "display_name": "Python [conda root]",
   "language": "python",
   "name": "conda-root-py"
  },
  "language_info": {
   "codemirror_mode": {
    "name": "ipython",
    "version": 2
   },
   "file_extension": ".py",
   "mimetype": "text/x-python",
   "name": "python",
   "nbconvert_exporter": "python",
   "pygments_lexer": "ipython2",
   "version": "2.7.13"
  }
 },
 "nbformat": 4,
 "nbformat_minor": 2
}
